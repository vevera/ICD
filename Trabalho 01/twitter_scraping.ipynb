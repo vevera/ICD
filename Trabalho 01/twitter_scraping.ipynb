{
 "cells": [
  {
   "cell_type": "markdown",
   "id": "805c44ed-2215-4e59-a010-8e5b6c7e6c69",
   "metadata": {
    "tags": []
   },
   "source": [
    "## Scraping de texto sobre a lei rouanet"
   ]
  },
  {
   "cell_type": "markdown",
   "id": "77070974-3400-4cdc-ac9c-530b6ecbc672",
   "metadata": {},
   "source": [
    "###  Daniel Silva Agostinho - 470435"
   ]
  },
  {
   "cell_type": "markdown",
   "id": "78ef2042-9eda-463c-ad6e-2804da77f25f",
   "metadata": {},
   "source": [
    "#### Retirando dados do twitter utilizando a biblioteca Selenium"
   ]
  },
  {
   "cell_type": "code",
   "execution_count": 8,
   "id": "8f3d0f75",
   "metadata": {},
   "outputs": [],
   "source": [
    "import csv\n",
    "from time import sleep\n",
    "from selenium.webdriver.common.keys import Keys\n",
    "from selenium.common.exceptions import NoSuchElementException, StaleElementReferenceException\n",
    "from selenium.webdriver.edge.service import Service\n",
    "\n",
    "from selenium.webdriver import Edge"
   ]
  },
  {
   "cell_type": "code",
   "execution_count": 9,
   "id": "037ce9be",
   "metadata": {},
   "outputs": [],
   "source": [
    "def transform_number(st_number):\n",
    "\n",
    "    if st_number == \"\":\n",
    "        return 0\n",
    "\n",
    "    if st_number[-1] == \"K\":\n",
    "        qtd = float(st_number[:-1]) * 1000\n",
    "    elif st_number[-1] == \"M\":\n",
    "        qtd = float(st_number[:-1]) * 1000000\n",
    "    else:\n",
    "        qtd = float(st_number.replace(',', ''))\n",
    "\n",
    "    return int(qtd)"
   ]
  },
  {
   "cell_type": "code",
   "execution_count": 10,
   "id": "950ed261",
   "metadata": {},
   "outputs": [],
   "source": [
    "#Script\n",
    "\n",
    "def get_data(tweet):\n",
    "    #username\n",
    "    try:\n",
    "        #username\n",
    "        username = tweet.find_element(\"xpath\",'.//div[@data-testid=\"User-Name\"]/div').text\n",
    "        \n",
    "        #arroba, ex: @daniel_agostin\n",
    "        arroba = tweet.find_element(\"xpath\",'.//span[contains(text(), \"@\")]').text\n",
    "        \n",
    "        #dia\n",
    "        dia = tweet.find_element(\"xpath\",'.//time').get_attribute('datetime')\n",
    "        \n",
    "        #texto do tweet\n",
    "        conteudo = tweet.find_element(\"xpath\",'.//div[@data-testid=\"tweetText\"]').text\n",
    "        \n",
    "        #quantidade de comentarios\n",
    "        comentarios = tweet.find_element(\"xpath\",'.//div[@data-testid=\"reply\"]').text\n",
    "        comentarios = transform_number(comentarios)\n",
    "        \n",
    "        #quantidade de retweets\n",
    "        ret = tweet.find_element(\"xpath\",'.//div[@data-testid=\"retweet\"]').text\n",
    "        ret = transform_number(ret)\n",
    "        \n",
    "        #quantidade de likes\n",
    "        likes = tweet.find_element(\"xpath\",'.//div[@data-testid=\"like\"]').text\n",
    "        likes = transform_number(likes)\n",
    "    except NoSuchElementException:\n",
    "        return\n",
    "    except StaleElementReferenceException:\n",
    "        return\n",
    "           \n",
    "    tweet_id = arroba + dia\n",
    "    \n",
    "    return {'id':tweet_id, \n",
    "            \"username\":username, \n",
    "            \"arroba\":arroba, \n",
    "            \"date_time\":dia, \n",
    "            \"texto\":conteudo, \n",
    "            \"coment_cont\":comentarios, \n",
    "            \"ret_cont\":ret, \n",
    "            \"likes_cont\":likes}"
   ]
  },
  {
   "cell_type": "code",
   "execution_count": 6,
   "id": "92452893",
   "metadata": {},
   "outputs": [],
   "source": [
    "service = Service(\"./msedgedriver.exe\")\n",
    "driver = Edge(service= service)\n",
    "#acesssando login page do twitter\n",
    "driver.get(\"https://twitter.com/i/flow/login\")"
   ]
  },
  {
   "cell_type": "code",
   "execution_count": 7,
   "id": "a409674f-4994-4e59-954b-8d485be819b7",
   "metadata": {},
   "outputs": [],
   "source": [
    "barra_pesquisa = driver.find_element(\"xpath\",'//input[@placeholder=\"Search Twitter\"]')\n",
    "barra_pesquisa.send_keys('lei rouanet until:2021-11-30 since:2020-07-30')\n",
    "barra_pesquisa.send_keys(Keys.RETURN)\n",
    "\n",
    "sleep(1)\n",
    "\n",
    "#Aba de tweets mais recentes\n",
    "mais_recentes = driver.find_element(\"xpath\",'//div[@role=\"tablist\"]/div[2]/a')\n",
    "mais_recentes.click()\n",
    "\n",
    "#lista de tweets\n",
    "tweet_data = []\n",
    "\n",
    "#lista de ids, evitar de pegar o mesmo tweet mais de uma vez\n",
    "ids = set()\n",
    "\n",
    "#quantidade minima de tweets a ser minerada\n",
    "quantidade_min = 5\n",
    "\n",
    "while (len(tweet_data) < quantidade_min):\n",
    "    \n",
    "    tweets = driver.find_elements(\"xpath\",'//article[@data-testid=\"tweet\"]')\n",
    "    \n",
    "    for tweet in tweets[-10:]:\n",
    "        tweet_tuple = get_data(tweet)\n",
    "        if tweet_tuple:\n",
    "            if tweet_tuple['id'] not in ids:\n",
    "                tweet_data.append(tweet_tuple)\n",
    "                ids.add(tweet_tuple['id'])\n",
    "            \n",
    "    \n",
    "    driver.execute_script('window.scrollBy(0, 25000);')\n",
    "    sleep(1)\n",
    "    \n",
    "#Escrevendo csv com os dados\n",
    "with open('twitter_video_1.csv', 'w', newline='', encoding = 'utf-8') as f:\n",
    "    writer = csv.writer(f)\n",
    "    for tweetD in tweet_data:\n",
    "        writer.writerow(list(tweetD.values()))  "
   ]
  }
 ],
 "metadata": {
  "kernelspec": {
   "display_name": "Python 3",
   "language": "python",
   "name": "python3"
  },
  "language_info": {
   "codemirror_mode": {
    "name": "ipython",
    "version": 3
   },
   "file_extension": ".py",
   "mimetype": "text/x-python",
   "name": "python",
   "nbconvert_exporter": "python",
   "pygments_lexer": "ipython3",
   "version": "3.10.11"
  }
 },
 "nbformat": 4,
 "nbformat_minor": 5
}
